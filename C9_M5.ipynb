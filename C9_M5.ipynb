{
 "cells": [
  {
   "cell_type": "code",
   "execution_count": 1,
   "id": "76c07266-58d7-4fa1-94f1-147fd39b3a26",
   "metadata": {},
   "outputs": [],
   "source": [
    "import pandas as pd"
   ]
  },
  {
   "cell_type": "code",
   "execution_count": 2,
   "id": "e89b092d-254a-4a5d-b1ea-f1c2c255ce9a",
   "metadata": {},
   "outputs": [],
   "source": [
    "path = \"datasets/\""
   ]
  },
  {
   "cell_type": "code",
   "execution_count": 3,
   "id": "5a648760-0f34-4462-88d7-76591361a9a7",
   "metadata": {},
   "outputs": [],
   "source": [
    "dpath = \"/home/c9/Загрузки/BIG DATA/\""
   ]
  },
  {
   "cell_type": "raw",
   "id": "38f08898-182b-49f4-8b56-87b83144460a",
   "metadata": {},
   "source": [
    "for i in range(4):\n",
    "    print(i)\n",
    "    df = pd.read_csv(dpath + f\"target_{i}.csv\")\n",
    "    df = df.astype('float16')\n",
    "    df.to_csv(path + 'data_y.csv', mode='a', header=False, index=False)"
   ]
  },
  {
   "cell_type": "raw",
   "id": "0e3f0a2b-7751-48cc-b13d-909b3e04ff51",
   "metadata": {},
   "source": [
    "df = pd.read_csv(dpath + f\"target_val.csv\")\n",
    "df = df.astype('float16')\n",
    "df.to_csv(path + 'data_y_val.csv', mode='a', header=False, index=False)"
   ]
  },
  {
   "cell_type": "raw",
   "id": "c7513636-4f06-4350-b52d-4e2a4d72a68e",
   "metadata": {},
   "source": [
    "Чтобы сравнить модели обучим на небольшой (/100) выборке"
   ]
  },
  {
   "cell_type": "code",
   "execution_count": 4,
   "id": "7ebc6db0-5126-455f-a128-f2135bda71d4",
   "metadata": {},
   "outputs": [
    {
     "data": {
      "text/html": [
       "<div>\n",
       "<style scoped>\n",
       "    .dataframe tbody tr th:only-of-type {\n",
       "        vertical-align: middle;\n",
       "    }\n",
       "\n",
       "    .dataframe tbody tr th {\n",
       "        vertical-align: top;\n",
       "    }\n",
       "\n",
       "    .dataframe thead th {\n",
       "        text-align: right;\n",
       "    }\n",
       "</style>\n",
       "<table border=\"1\" class=\"dataframe\">\n",
       "  <thead>\n",
       "    <tr style=\"text-align: right;\">\n",
       "      <th></th>\n",
       "      <th>0</th>\n",
       "      <th>1</th>\n",
       "      <th>2</th>\n",
       "      <th>3</th>\n",
       "      <th>4</th>\n",
       "      <th>5</th>\n",
       "      <th>6</th>\n",
       "      <th>7</th>\n",
       "      <th>8</th>\n",
       "    </tr>\n",
       "  </thead>\n",
       "  <tbody>\n",
       "    <tr>\n",
       "      <th>0</th>\n",
       "      <td>0.9683</td>\n",
       "      <td>0.9883</td>\n",
       "      <td>0.5933</td>\n",
       "      <td>0.5840</td>\n",
       "      <td>0.5520</td>\n",
       "      <td>0.20850</td>\n",
       "      <td>0.000000</td>\n",
       "      <td>0.39900</td>\n",
       "      <td>0.07710</td>\n",
       "    </tr>\n",
       "    <tr>\n",
       "      <th>1</th>\n",
       "      <td>0.7466</td>\n",
       "      <td>0.9740</td>\n",
       "      <td>0.1836</td>\n",
       "      <td>0.6550</td>\n",
       "      <td>0.4756</td>\n",
       "      <td>0.37740</td>\n",
       "      <td>0.001883</td>\n",
       "      <td>0.69240</td>\n",
       "      <td>0.44530</td>\n",
       "    </tr>\n",
       "    <tr>\n",
       "      <th>2</th>\n",
       "      <td>0.3474</td>\n",
       "      <td>0.9690</td>\n",
       "      <td>0.1630</td>\n",
       "      <td>0.1927</td>\n",
       "      <td>0.5273</td>\n",
       "      <td>0.34300</td>\n",
       "      <td>0.000000</td>\n",
       "      <td>0.19690</td>\n",
       "      <td>0.20170</td>\n",
       "    </tr>\n",
       "    <tr>\n",
       "      <th>3</th>\n",
       "      <td>0.5166</td>\n",
       "      <td>0.8667</td>\n",
       "      <td>0.4226</td>\n",
       "      <td>0.3520</td>\n",
       "      <td>0.3850</td>\n",
       "      <td>0.02266</td>\n",
       "      <td>0.001037</td>\n",
       "      <td>0.24600</td>\n",
       "      <td>0.60400</td>\n",
       "    </tr>\n",
       "    <tr>\n",
       "      <th>4</th>\n",
       "      <td>0.8667</td>\n",
       "      <td>0.9775</td>\n",
       "      <td>0.6440</td>\n",
       "      <td>0.3354</td>\n",
       "      <td>0.3965</td>\n",
       "      <td>0.40400</td>\n",
       "      <td>0.000115</td>\n",
       "      <td>0.08234</td>\n",
       "      <td>0.24020</td>\n",
       "    </tr>\n",
       "    <tr>\n",
       "      <th>...</th>\n",
       "      <td>...</td>\n",
       "      <td>...</td>\n",
       "      <td>...</td>\n",
       "      <td>...</td>\n",
       "      <td>...</td>\n",
       "      <td>...</td>\n",
       "      <td>...</td>\n",
       "      <td>...</td>\n",
       "      <td>...</td>\n",
       "    </tr>\n",
       "    <tr>\n",
       "      <th>1199995</th>\n",
       "      <td>0.9473</td>\n",
       "      <td>0.9756</td>\n",
       "      <td>0.1401</td>\n",
       "      <td>0.9453</td>\n",
       "      <td>0.4492</td>\n",
       "      <td>0.50000</td>\n",
       "      <td>0.000003</td>\n",
       "      <td>0.24670</td>\n",
       "      <td>0.06165</td>\n",
       "    </tr>\n",
       "    <tr>\n",
       "      <th>1199996</th>\n",
       "      <td>0.9840</td>\n",
       "      <td>0.9300</td>\n",
       "      <td>0.3870</td>\n",
       "      <td>0.5610</td>\n",
       "      <td>0.5337</td>\n",
       "      <td>0.80200</td>\n",
       "      <td>0.002752</td>\n",
       "      <td>0.70400</td>\n",
       "      <td>0.71630</td>\n",
       "    </tr>\n",
       "    <tr>\n",
       "      <th>1199997</th>\n",
       "      <td>0.3070</td>\n",
       "      <td>0.9795</td>\n",
       "      <td>0.1544</td>\n",
       "      <td>0.7896</td>\n",
       "      <td>0.5610</td>\n",
       "      <td>0.27780</td>\n",
       "      <td>0.000000</td>\n",
       "      <td>0.12900</td>\n",
       "      <td>0.40300</td>\n",
       "    </tr>\n",
       "    <tr>\n",
       "      <th>1199998</th>\n",
       "      <td>0.4521</td>\n",
       "      <td>0.9834</td>\n",
       "      <td>0.7827</td>\n",
       "      <td>0.3572</td>\n",
       "      <td>0.4153</td>\n",
       "      <td>0.29540</td>\n",
       "      <td>0.000000</td>\n",
       "      <td>0.25760</td>\n",
       "      <td>0.39040</td>\n",
       "    </tr>\n",
       "    <tr>\n",
       "      <th>1199999</th>\n",
       "      <td>0.2998</td>\n",
       "      <td>0.9907</td>\n",
       "      <td>0.2408</td>\n",
       "      <td>0.7500</td>\n",
       "      <td>0.5370</td>\n",
       "      <td>0.64000</td>\n",
       "      <td>0.000000</td>\n",
       "      <td>0.98100</td>\n",
       "      <td>0.91400</td>\n",
       "    </tr>\n",
       "  </tbody>\n",
       "</table>\n",
       "<p>1200000 rows × 9 columns</p>\n",
       "</div>"
      ],
      "text/plain": [
       "              0       1       2       3       4        5         6        7  \\\n",
       "0        0.9683  0.9883  0.5933  0.5840  0.5520  0.20850  0.000000  0.39900   \n",
       "1        0.7466  0.9740  0.1836  0.6550  0.4756  0.37740  0.001883  0.69240   \n",
       "2        0.3474  0.9690  0.1630  0.1927  0.5273  0.34300  0.000000  0.19690   \n",
       "3        0.5166  0.8667  0.4226  0.3520  0.3850  0.02266  0.001037  0.24600   \n",
       "4        0.8667  0.9775  0.6440  0.3354  0.3965  0.40400  0.000115  0.08234   \n",
       "...         ...     ...     ...     ...     ...      ...       ...      ...   \n",
       "1199995  0.9473  0.9756  0.1401  0.9453  0.4492  0.50000  0.000003  0.24670   \n",
       "1199996  0.9840  0.9300  0.3870  0.5610  0.5337  0.80200  0.002752  0.70400   \n",
       "1199997  0.3070  0.9795  0.1544  0.7896  0.5610  0.27780  0.000000  0.12900   \n",
       "1199998  0.4521  0.9834  0.7827  0.3572  0.4153  0.29540  0.000000  0.25760   \n",
       "1199999  0.2998  0.9907  0.2408  0.7500  0.5370  0.64000  0.000000  0.98100   \n",
       "\n",
       "               8  \n",
       "0        0.07710  \n",
       "1        0.44530  \n",
       "2        0.20170  \n",
       "3        0.60400  \n",
       "4        0.24020  \n",
       "...          ...  \n",
       "1199995  0.06165  \n",
       "1199996  0.71630  \n",
       "1199997  0.40300  \n",
       "1199998  0.39040  \n",
       "1199999  0.91400  \n",
       "\n",
       "[1200000 rows x 9 columns]"
      ]
     },
     "execution_count": 4,
     "metadata": {},
     "output_type": "execute_result"
    }
   ],
   "source": [
    "X = pd.read_csv(path + \"data_X.csv\", header=None, nrows = 1200000)\n",
    "X"
   ]
  },
  {
   "cell_type": "code",
   "execution_count": 5,
   "id": "5d17e978-1807-44b2-8433-25fd427648a0",
   "metadata": {},
   "outputs": [
    {
     "data": {
      "text/html": [
       "<div>\n",
       "<style scoped>\n",
       "    .dataframe tbody tr th:only-of-type {\n",
       "        vertical-align: middle;\n",
       "    }\n",
       "\n",
       "    .dataframe tbody tr th {\n",
       "        vertical-align: top;\n",
       "    }\n",
       "\n",
       "    .dataframe thead th {\n",
       "        text-align: right;\n",
       "    }\n",
       "</style>\n",
       "<table border=\"1\" class=\"dataframe\">\n",
       "  <thead>\n",
       "    <tr style=\"text-align: right;\">\n",
       "      <th></th>\n",
       "      <th>0</th>\n",
       "      <th>1</th>\n",
       "    </tr>\n",
       "  </thead>\n",
       "  <tbody>\n",
       "    <tr>\n",
       "      <th>0</th>\n",
       "      <td>1785.0</td>\n",
       "      <td>1823.0</td>\n",
       "    </tr>\n",
       "    <tr>\n",
       "      <th>1</th>\n",
       "      <td>2908.0</td>\n",
       "      <td>4052.0</td>\n",
       "    </tr>\n",
       "    <tr>\n",
       "      <th>2</th>\n",
       "      <td>1465.0</td>\n",
       "      <td>2023.0</td>\n",
       "    </tr>\n",
       "    <tr>\n",
       "      <th>3</th>\n",
       "      <td>2718.0</td>\n",
       "      <td>2666.0</td>\n",
       "    </tr>\n",
       "    <tr>\n",
       "      <th>4</th>\n",
       "      <td>2598.0</td>\n",
       "      <td>3598.0</td>\n",
       "    </tr>\n",
       "    <tr>\n",
       "      <th>...</th>\n",
       "      <td>...</td>\n",
       "      <td>...</td>\n",
       "    </tr>\n",
       "    <tr>\n",
       "      <th>1199995</th>\n",
       "      <td>1541.0</td>\n",
       "      <td>1584.0</td>\n",
       "    </tr>\n",
       "    <tr>\n",
       "      <th>1199996</th>\n",
       "      <td>4456.0</td>\n",
       "      <td>4416.0</td>\n",
       "    </tr>\n",
       "    <tr>\n",
       "      <th>1199997</th>\n",
       "      <td>1592.0</td>\n",
       "      <td>1620.0</td>\n",
       "    </tr>\n",
       "    <tr>\n",
       "      <th>1199998</th>\n",
       "      <td>871.0</td>\n",
       "      <td>1705.0</td>\n",
       "    </tr>\n",
       "    <tr>\n",
       "      <th>1199999</th>\n",
       "      <td>2218.0</td>\n",
       "      <td>1919.0</td>\n",
       "    </tr>\n",
       "  </tbody>\n",
       "</table>\n",
       "<p>1200000 rows × 2 columns</p>\n",
       "</div>"
      ],
      "text/plain": [
       "              0       1\n",
       "0        1785.0  1823.0\n",
       "1        2908.0  4052.0\n",
       "2        1465.0  2023.0\n",
       "3        2718.0  2666.0\n",
       "4        2598.0  3598.0\n",
       "...         ...     ...\n",
       "1199995  1541.0  1584.0\n",
       "1199996  4456.0  4416.0\n",
       "1199997  1592.0  1620.0\n",
       "1199998   871.0  1705.0\n",
       "1199999  2218.0  1919.0\n",
       "\n",
       "[1200000 rows x 2 columns]"
      ]
     },
     "execution_count": 5,
     "metadata": {},
     "output_type": "execute_result"
    }
   ],
   "source": [
    "y = pd.read_csv(path + \"data_y.csv\", header=None, nrows = 1200000)\n",
    "y"
   ]
  },
  {
   "cell_type": "code",
   "execution_count": 6,
   "id": "1eb0ed9e-6f31-44d4-a7b1-2a337854b60d",
   "metadata": {},
   "outputs": [],
   "source": [
    "from sklearn.model_selection import train_test_split"
   ]
  },
  {
   "cell_type": "code",
   "execution_count": 7,
   "id": "b805bd86-3e9b-4d54-a625-81a7154c6b60",
   "metadata": {},
   "outputs": [],
   "source": [
    "X_train, X_test, y_train, y_test = train_test_split(X, y, test_size=0.1, random_state=42)"
   ]
  },
  {
   "cell_type": "code",
   "execution_count": 8,
   "id": "247410f2-48c4-41e5-b6f3-191dcdb521a9",
   "metadata": {},
   "outputs": [],
   "source": [
    "from sklearn.ensemble import RandomForestRegressor"
   ]
  },
  {
   "cell_type": "code",
   "execution_count": 9,
   "id": "59dc50b2-8e77-4799-bdba-20c7c7efa617",
   "metadata": {},
   "outputs": [],
   "source": [
    "import time"
   ]
  },
  {
   "cell_type": "code",
   "execution_count": 10,
   "id": "7430e58b-6eac-434f-8700-c5b9f169e606",
   "metadata": {},
   "outputs": [
    {
     "data": {
      "text/plain": [
       "array([[3097.46698123, 3366.52762287],\n",
       "       [4237.18722767, 4237.00630034],\n",
       "       [2916.10814746, 2822.00988641],\n",
       "       ...,\n",
       "       [4315.64711024, 4633.32990231],\n",
       "       [2109.73012646, 2626.9607409 ],\n",
       "       [4290.54937065, 4191.84776109]])"
      ]
     },
     "execution_count": 10,
     "metadata": {},
     "output_type": "execute_result"
    }
   ],
   "source": [
    "rf = RandomForestRegressor(n_estimators=100, max_depth=7, n_jobs=-1)\n",
    "stime = time.time()\n",
    "rf.fit(X_train, y_train)\n",
    "rftime = time.time() - stime\n",
    "rfp = rf.predict(X_test)\n",
    "rfp"
   ]
  },
  {
   "cell_type": "code",
   "execution_count": 11,
   "id": "50e6c0fe-ed03-407a-90d0-5a4976b96dd1",
   "metadata": {},
   "outputs": [],
   "source": [
    "from sklearn.ensemble import HistGradientBoostingRegressor\n",
    "from sklearn.multioutput import MultiOutputRegressor"
   ]
  },
  {
   "cell_type": "code",
   "execution_count": 12,
   "id": "4c7dfdd7-343f-4838-9b45-bd9deebd7f4a",
   "metadata": {},
   "outputs": [
    {
     "data": {
      "text/plain": [
       "array([[3147.63032649, 3388.40113078],\n",
       "       [3774.15727888, 3814.78876325],\n",
       "       [3156.58788184, 3081.8255232 ],\n",
       "       ...,\n",
       "       [4383.8714652 , 4771.70035633],\n",
       "       [2070.05083182, 2626.31924391],\n",
       "       [4482.55165197, 4082.29544525]])"
      ]
     },
     "execution_count": 12,
     "metadata": {},
     "output_type": "execute_result"
    }
   ],
   "source": [
    "gb = MultiOutputRegressor(HistGradientBoostingRegressor(max_depth=7))\n",
    "stime = time.time()\n",
    "gb.fit(X_train, y_train)\n",
    "gbtime = time.time() - stime\n",
    "gbp = gb.predict(X_test)\n",
    "gbp"
   ]
  },
  {
   "cell_type": "code",
   "execution_count": 13,
   "id": "928e9f88-f659-4ff7-bec0-abab5c05adf6",
   "metadata": {},
   "outputs": [],
   "source": [
    "from sklearn.linear_model import SGDRegressor"
   ]
  },
  {
   "cell_type": "code",
   "execution_count": 14,
   "id": "17e01e5e-c28c-44a3-be8a-4c63b7cf6038",
   "metadata": {},
   "outputs": [
    {
     "data": {
      "text/plain": [
       "array([[2147.23629125, 2352.78283055],\n",
       "       [3014.2229705 , 3001.25521158],\n",
       "       [2497.54360164, 2452.22187619],\n",
       "       ...,\n",
       "       [3507.73604351, 3895.57126192],\n",
       "       [2769.69323474, 3358.17377196],\n",
       "       [3698.49057777, 3279.3960088 ]])"
      ]
     },
     "execution_count": 14,
     "metadata": {},
     "output_type": "execute_result"
    }
   ],
   "source": [
    "sgdr = MultiOutputRegressor(SGDRegressor())\n",
    "stime = time.time()\n",
    "sgdr.fit(X_train, y_train)\n",
    "sgdrtime = time.time() - stime\n",
    "sgdrp = sgdr.predict(X_test)\n",
    "sgdrp"
   ]
  },
  {
   "cell_type": "raw",
   "id": "f90bbce9-92b1-4abb-abf6-461cf82495da",
   "metadata": {},
   "source": [
    "Оценка точности"
   ]
  },
  {
   "cell_type": "code",
   "execution_count": 15,
   "id": "8f415ecd-5732-4af6-bc2d-975e9f85ee01",
   "metadata": {},
   "outputs": [],
   "source": [
    "from sklearn.metrics import r2_score"
   ]
  },
  {
   "cell_type": "code",
   "execution_count": 16,
   "id": "99b59a14-249e-47ca-a15d-af73cd21573f",
   "metadata": {},
   "outputs": [
    {
     "data": {
      "text/plain": [
       "[0.6332957770021699, 0.6680145080324851, 0.4056017745171597]"
      ]
     },
     "execution_count": 16,
     "metadata": {},
     "output_type": "execute_result"
    }
   ],
   "source": [
    "[\n",
    "    r2_score(y_test, rfp),\n",
    "    r2_score(y_test, gbp),\n",
    "    r2_score(y_test, sgdrp)\n",
    "]"
   ]
  },
  {
   "cell_type": "code",
   "execution_count": 17,
   "id": "caaa0daa-8732-4327-b8a7-ba2166d74dec",
   "metadata": {},
   "outputs": [],
   "source": [
    "from sklearn.metrics import root_mean_squared_error"
   ]
  },
  {
   "cell_type": "code",
   "execution_count": 18,
   "id": "337beb8b-9772-438c-9e5c-b2b6112eb9a1",
   "metadata": {},
   "outputs": [
    {
     "data": {
      "text/plain": [
       "[750.091591243734, 713.7166195032526, 954.603515690921]"
      ]
     },
     "execution_count": 18,
     "metadata": {},
     "output_type": "execute_result"
    }
   ],
   "source": [
    "[\n",
    "    root_mean_squared_error(y_test, rfp),\n",
    "    root_mean_squared_error(y_test, gbp),\n",
    "    root_mean_squared_error(y_test, sgdrp)\n",
    "]"
   ]
  },
  {
   "cell_type": "raw",
   "id": "3e1c662c-a980-46a9-bf40-2f96474e7e1c",
   "metadata": {},
   "source": [
    "По r2 и rmse в сумме лучше HistGradientBoostingRegressor"
   ]
  },
  {
   "cell_type": "code",
   "execution_count": 19,
   "id": "23a17143-4023-4eae-921c-9eb6fb9be5cf",
   "metadata": {},
   "outputs": [
    {
     "data": {
      "text/plain": [
       "[72.18198323249817, 4.67350959777832, 8.188668966293335]"
      ]
     },
     "execution_count": 19,
     "metadata": {},
     "output_type": "execute_result"
    }
   ],
   "source": [
    "[rftime, gbtime, sgdrtime]"
   ]
  },
  {
   "cell_type": "raw",
   "id": "b4dd4d29-20fc-4ecf-8d2d-1643d9641973",
   "metadata": {},
   "source": [
    "По времени он тоже самый быстрый, оставляем его"
   ]
  },
  {
   "cell_type": "code",
   "execution_count": 20,
   "id": "f4811ce5-9fee-46ca-b7d2-e57897de843d",
   "metadata": {},
   "outputs": [],
   "source": [
    "from sklearn.ensemble import HistGradientBoostingRegressor\n",
    "from sklearn.multioutput import MultiOutputRegressor\n",
    "from sklearn.metrics import r2_score\n",
    "from sklearn.metrics import root_mean_squared_error\n",
    "from sklearn.metrics import mean_squared_error\n",
    "from sklearn.metrics import mean_absolute_error\n",
    "from sklearn.metrics import mean_absolute_percentage_error\n",
    "\n",
    "def pipeline(train_X, train_y, val_X, val_y):\n",
    "    X = pd.read_csv(train_X, header=None)\n",
    "    y = pd.read_csv(train_y, header=None)\n",
    "    print(\"load1\")\n",
    "    valX = pd.read_csv(val_X, header=None)\n",
    "    valy = pd.read_csv(val_y, header=None)\n",
    "    print(\"load2\")\n",
    "    \n",
    "    model = MultiOutputRegressor(HistGradientBoostingRegressor())\n",
    "    \n",
    "    stime = time.time()\n",
    "    model.fit(X, y)\n",
    "    print(\"fit\")\n",
    "    predict = model.predict(valX)\n",
    "    print(\"predict\")\n",
    "    dct = {\n",
    "        \"Время обучения и предсказания\": time.time() - stime,\n",
    "        \"R2\": r2_score(valy, predict),\n",
    "        \"RMSE\": root_mean_squared_error(valy, predict),\n",
    "        \"MSE\": mean_squared_error(valy, predict),\n",
    "        \"MAE\": mean_absolute_error(valy, predict),\n",
    "        \"MAPE\": mean_absolute_percentage_error(valy, predict),\n",
    "    }\n",
    "    \n",
    "    return model, dct"
   ]
  },
  {
   "cell_type": "raw",
   "id": "035eeaca-d16d-4d8a-a478-a01d5c7a1d43",
   "metadata": {},
   "source": [
    "pipeline был вызван ранее, но пришлось рестартить кернел, сейчас дообучаться не успел, модель и метрики прошлого запуска были сохранены в файлы model.pkl и metrics.txt"
   ]
  },
  {
   "cell_type": "code",
   "execution_count": 21,
   "id": "e52589d3-cd93-4767-98a3-aa68624996b1",
   "metadata": {},
   "outputs": [
    {
     "name": "stdout",
     "output_type": "stream",
     "text": [
      "load1\n",
      "load2\n"
     ]
    },
    {
     "name": "stderr",
     "output_type": "stream",
     "text": [
      "\n",
      "KeyboardInterrupt\n",
      "\n"
     ]
    }
   ],
   "source": [
    "model, dct = pipeline(path + \"data_X.csv\", path + \"data_y.csv\", path + \"data_X_val.csv\", path + \"data_y_val.csv\")"
   ]
  },
  {
   "cell_type": "code",
   "execution_count": null,
   "id": "a8252ebc-7a74-49ee-84e9-ebaab471739c",
   "metadata": {},
   "outputs": [],
   "source": [
    "dct"
   ]
  },
  {
   "cell_type": "code",
   "execution_count": null,
   "id": "7a5f0fc3-a9ba-4bce-9875-fb76ab2a52c7",
   "metadata": {},
   "outputs": [],
   "source": [
    "model"
   ]
  },
  {
   "cell_type": "code",
   "execution_count": null,
   "id": "15b134e1-61b5-4133-b3dc-f59f42d52ba1",
   "metadata": {},
   "outputs": [],
   "source": [
    "import pickle"
   ]
  },
  {
   "cell_type": "code",
   "execution_count": null,
   "id": "464ae707-6245-4b9a-a222-27595a23c528",
   "metadata": {},
   "outputs": [],
   "source": [
    "with open('model.pkl', 'wb') as file:\n",
    "    pickle.dump(model, file)"
   ]
  },
  {
   "cell_type": "code",
   "execution_count": null,
   "id": "818a45f7-9c95-4f02-858c-16c1a354f953",
   "metadata": {},
   "outputs": [],
   "source": [
    "with open('metrics.txt', 'w') as file:\n",
    "    for key, value in dct.items():\n",
    "        file.write(f'{key}: {value}\\n')"
   ]
  },
  {
   "cell_type": "code",
   "execution_count": null,
   "id": "49cc2ffb-0455-4138-b90a-047e287c96fa",
   "metadata": {},
   "outputs": [],
   "source": []
  }
 ],
 "metadata": {
  "kernelspec": {
   "display_name": "Python 3 (ipykernel)",
   "language": "python",
   "name": "python3"
  },
  "language_info": {
   "codemirror_mode": {
    "name": "ipython",
    "version": 3
   },
   "file_extension": ".py",
   "mimetype": "text/x-python",
   "name": "python",
   "nbconvert_exporter": "python",
   "pygments_lexer": "ipython3",
   "version": "3.11.2"
  }
 },
 "nbformat": 4,
 "nbformat_minor": 5
}
